{
 "cells": [
  {
   "cell_type": "code",
   "execution_count": 1,
   "id": "ee476551",
   "metadata": {},
   "outputs": [],
   "source": [
    "#############  Que 1  #########\n",
    "1.What are the two values of the Boolean data type? How do you write them?"
   ]
  },
  {
   "cell_type": "code",
   "execution_count": null,
   "id": "d89cdc62",
   "metadata": {},
   "outputs": [],
   "source": [
    "Answer:\n",
    "    Boolean is built-in data type in Python.It has two values i.e. True or False.\n",
    "It is used to represent the truth values of the expression.\n",
    "it can be represented as  \n",
    "   bool()\n",
    "\n",
    "Example:\n",
    "    \n",
    "x=3\n",
    "y=5\n",
    "print(bool(x==y))    ### returns False\n",
    "\n",
    "x=6\n",
    "print(bool(x))  ### returns True"
   ]
  },
  {
   "cell_type": "code",
   "execution_count": 37,
   "id": "9d86a03b",
   "metadata": {},
   "outputs": [
    {
     "name": "stdout",
     "output_type": "stream",
     "text": [
      "False\n"
     ]
    }
   ],
   "source": [
    "x=3\n",
    "y=5\n",
    "print(bool(x==y))    ### returns False\n"
   ]
  },
  {
   "cell_type": "code",
   "execution_count": 38,
   "id": "a0717cb9",
   "metadata": {},
   "outputs": [
    {
     "name": "stdout",
     "output_type": "stream",
     "text": [
      "True\n"
     ]
    }
   ],
   "source": [
    "x=6\n",
    "print(bool(x))  ### returns True"
   ]
  },
  {
   "cell_type": "code",
   "execution_count": 5,
   "id": "25792620",
   "metadata": {},
   "outputs": [],
   "source": [
    "########   Que 2  ######### \n",
    " What are the three different types of Boolean operators?"
   ]
  },
  {
   "cell_type": "code",
   "execution_count": null,
   "id": "a9e8fca1",
   "metadata": {},
   "outputs": [],
   "source": [
    "Answer:\n",
    "    Boolean logical operators are of three types\n",
    "    AND\n",
    "    OR\n",
    "    NOT\n",
    "    "
   ]
  },
  {
   "cell_type": "code",
   "execution_count": null,
   "id": "a117ef4c",
   "metadata": {},
   "outputs": [],
   "source": [
    "###########  Que 3  ########\n",
    " Make a list of each Boolean operators truth tables (i.e. every possible combination of Boolean\n",
    "values for the operator and what it evaluate ."
   ]
  },
  {
   "cell_type": "code",
   "execution_count": null,
   "id": "a7a749cd",
   "metadata": {},
   "outputs": [],
   "source": [
    "Answer:\n",
    "    Boolean operators truth tables\n",
    "1.  AND operator\n",
    "   \n",
    "    True AND True   -> True\n",
    "    True AND False  -> False\n",
    "    False AND True  -> False\n",
    "    False AND False -> False\n",
    "    \n",
    "2.  OR operator\n",
    "   \n",
    "    True OR True   -> True\n",
    "    True OR False  -> True\n",
    "    False OR False -> False\n",
    "    False OR True  -> True\n",
    "    \n",
    "3.  NOT operator\n",
    "\n",
    "    NOT True  -> False\n",
    "    NOT False -> True\n"
   ]
  },
  {
   "cell_type": "code",
   "execution_count": null,
   "id": "cb596f48",
   "metadata": {},
   "outputs": [],
   "source": [
    "      ##########  Que 4  ########\n",
    "What are the values of the following expressions?"
   ]
  },
  {
   "cell_type": "code",
   "execution_count": null,
   "id": "9b31d981",
   "metadata": {},
   "outputs": [],
   "source": [
    "Answer:\n",
    "    values of the following expressions\n",
    "\n",
    "1. (5>4)and(3==5)\n",
    "        \n",
    "2.  not(5>4)\n",
    "     \n",
    "3.  (5 > 4) or (3==5)\n",
    "     \n",
    "4.  not((5>4)or (3==5))\n",
    "        \n",
    "5.  (True and True) and (True == False)\n",
    "    \n",
    "    \n",
    "6.  (not False) or (not True)\n",
    "    "
   ]
  },
  {
   "cell_type": "code",
   "execution_count": 3,
   "id": "1a92b4c8",
   "metadata": {},
   "outputs": [
    {
     "name": "stdout",
     "output_type": "stream",
     "text": [
      "False\n"
     ]
    }
   ],
   "source": [
    "#(5>4)and(3==5)\n",
    "print(bool((5>4)and(3==5)))         #  True and False => False"
   ]
  },
  {
   "cell_type": "code",
   "execution_count": 6,
   "id": "05f9e2a9",
   "metadata": {},
   "outputs": [
    {
     "name": "stdout",
     "output_type": "stream",
     "text": [
      "False\n"
     ]
    }
   ],
   "source": [
    "print(bool(not(5>4)))               #   not True => False\n"
   ]
  },
  {
   "cell_type": "code",
   "execution_count": 7,
   "id": "30128ee7",
   "metadata": {},
   "outputs": [
    {
     "name": "stdout",
     "output_type": "stream",
     "text": [
      "True\n"
     ]
    }
   ],
   "source": [
    "print(bool( (5 > 4) or (3==5)))     #  True OR False => True"
   ]
  },
  {
   "cell_type": "code",
   "execution_count": 8,
   "id": "b01eea55",
   "metadata": {},
   "outputs": [
    {
     "name": "stdout",
     "output_type": "stream",
     "text": [
      "False\n"
     ]
    }
   ],
   "source": [
    "print(bool( not(5 > 4) or (3==5)))   #  not(True OR False) =>NOT (True) => False"
   ]
  },
  {
   "cell_type": "code",
   "execution_count": 9,
   "id": "beb2fde5",
   "metadata": {},
   "outputs": [
    {
     "name": "stdout",
     "output_type": "stream",
     "text": [
      "False\n"
     ]
    }
   ],
   "source": [
    "print(bool((True and True) and (True == False)))    # True AND False => False"
   ]
  },
  {
   "cell_type": "code",
   "execution_count": 10,
   "id": "40704d32",
   "metadata": {},
   "outputs": [
    {
     "name": "stdout",
     "output_type": "stream",
     "text": [
      "True\n"
     ]
    }
   ],
   "source": [
    "print(bool((not False) or (not True)))     #True OR False  => True"
   ]
  },
  {
   "cell_type": "code",
   "execution_count": null,
   "id": "fb6a1054",
   "metadata": {},
   "outputs": [],
   "source": [
    "####### Que 5 #########\n",
    "there are six Comparison Operators , used to compare values and evaluate down to a single boolean value either True or False\n",
    "\n",
    "  ==   Equal to\n",
    "  !=   Not equal to\n",
    "  <    Less than\n",
    "  >    Greater than \n",
    "  <=   Less than equal to\n",
    "  >=   Greater than equal to\n",
    "\n",
    "Example:\n",
    "    "
   ]
  },
  {
   "cell_type": "code",
   "execution_count": 7,
   "id": "49831665",
   "metadata": {},
   "outputs": [
    {
     "name": "stdout",
     "output_type": "stream",
     "text": [
      "x == y :  False\n",
      "x != y :  True\n",
      "x < y :  True\n",
      "x > y :  False\n",
      "x <= y :  True\n",
      "x >= y :  False\n"
     ]
    }
   ],
   "source": [
    "x=6\n",
    "y=7\n",
    "\n",
    "print(\"x == y : \" , x==y)    ## returns false\n",
    "print(\"x != y : \" , x!=y)    ## returns true\n",
    "print(\"x < y : \" , x<y)      ## returns true\n",
    "print(\"x > y : \" , x>y)  ##  returns false\n",
    "print(\"x <= y : \" , x<=y)  ## returns true\n",
    "print(\"x >= y : \" , x>=y)  ##  returns false"
   ]
  },
  {
   "cell_type": "code",
   "execution_count": null,
   "id": "eb766a56",
   "metadata": {},
   "outputs": [],
   "source": [
    "########  Que 6 ####\n",
    "6. How do you tell the difference between the equal to and assignment operators?Describe a\n",
    "condition and when you would use one.\n",
    "\n",
    "Answer:\n",
    "    Assignment operator (=)    = is assignment operator of any programming language.It assigns value to the left side variable.\n",
    "    x=10  # value 10 is assigned to variable x\n",
    "    \n",
    "    Equal To operator (==)     == is equal to operator compares value of left and side expression ,return 1 if they are equal otherwise returns 0.\n",
    "    \n"
   ]
  },
  {
   "cell_type": "code",
   "execution_count": 4,
   "id": "ed2a26c6",
   "metadata": {},
   "outputs": [
    {
     "name": "stdout",
     "output_type": "stream",
     "text": [
      "0\n"
     ]
    }
   ],
   "source": [
    "x=2\n",
    "y=3\n",
    " \n",
    "if(x==y):\n",
    "    print(1)\n",
    "else:\n",
    "    print(0)"
   ]
  },
  {
   "cell_type": "code",
   "execution_count": 9,
   "id": "d7f64df2",
   "metadata": {},
   "outputs": [
    {
     "name": "stdout",
     "output_type": "stream",
     "text": [
      "ham\n",
      "spam\n",
      "spam\n"
     ]
    }
   ],
   "source": [
    "###### que 7  ######\n",
    "7. Identify the three blocks in this code:\n",
    "spam = 0\n",
    "if spam == 10:\n",
    "print('eggs')\n",
    "if spam >5:\n",
    "print('bacon')\n",
    "else:\n",
    "print('ham')\n",
    "print('spam')\n",
    "print('spam')\n",
    "\n",
    "Answer:\n",
    "spam = 0\n",
    "if spam == 10:\n",
    "    print('eggs')        ####   first block\n",
    "    \n",
    "    \n",
    "if spam > 5:\n",
    "    print('bacon')       ####   second block\n",
    "    \n",
    "    \n",
    "else:                   ### third block\n",
    "    print('ham')\n",
    "    print('spam')\n",
    "    print('spam')"
   ]
  },
  {
   "cell_type": "code",
   "execution_count": 13,
   "id": "b850e78f",
   "metadata": {},
   "outputs": [
    {
     "name": "stdout",
     "output_type": "stream",
     "text": [
      "How are you?\n"
     ]
    }
   ],
   "source": [
    "######  Que 8 #######\n",
    "8. Write code that prints Hello if 1 is stored in spam, prints Howdy if 2 is stored in spam, and prints\n",
    "Greetings! if anything else is stored in spam.\n",
    "\n",
    "spam=2\n",
    "if spam == 1:\n",
    "    print(\"Hello\")\n",
    "\n",
    "elif spam ==2:\n",
    "    print(\"How are you?\")\n",
    "    \n",
    "else:\n",
    "    print(\"Greeting!\")"
   ]
  },
  {
   "cell_type": "code",
   "execution_count": null,
   "id": "5fa7150a",
   "metadata": {},
   "outputs": [],
   "source": [
    "####  Que 9 ########\n",
    "9.If your programme is stuck in an endless loop, what keys you’ll press?\n",
    "\n",
    "Answer: if the programme is stuck in an endless loop we will use 'ctrl+c' key."
   ]
  },
  {
   "cell_type": "code",
   "execution_count": null,
   "id": "d87b1b73",
   "metadata": {},
   "outputs": [],
   "source": [
    "#### Que 10 ######\n",
    "10. How can you tell the difference between break and continue?\n",
    "\n",
    "Answer:\n",
    "    Difference between break and continue statement\n",
    "\n",
    "break statement : is used to terminate the loop whenever the perticular condition is met\n",
    "    it is used for the termination of all the remaining iterations of the loop.\n",
    "    The line which is just after the loop will gain the control of the program\n",
    "    \n",
    "continue statement  : is used for the termination of the only current iteration of of the loop\n",
    "    The control will pass to the next iteration of that current loop by skipping the current iteration\n",
    "     it performs execution of next loop by skipping current one"
   ]
  },
  {
   "cell_type": "code",
   "execution_count": null,
   "id": "4b1b6a4a",
   "metadata": {},
   "outputs": [],
   "source": [
    " #### Que 11 ######\n",
    " 11. In a for loop, what is the difference between range(10), range(0, 10), and range(0, 10, 1)?   \n",
    "    \n",
    "Answer:"
   ]
  },
  {
   "cell_type": "code",
   "execution_count": 7,
   "id": "a30cfd2e",
   "metadata": {},
   "outputs": [
    {
     "name": "stdout",
     "output_type": "stream",
     "text": [
      "8\n"
     ]
    }
   ],
   "source": [
    "\n",
    "for a in range(10):\n",
    "    if a==8:\n",
    "        print(a)"
   ]
  },
  {
   "cell_type": "code",
   "execution_count": 28,
   "id": "d8824589",
   "metadata": {},
   "outputs": [
    {
     "name": "stdout",
     "output_type": "stream",
     "text": [
      "4\n"
     ]
    }
   ],
   "source": [
    "for b in range(0,10):\n",
    "    if b==4:\n",
    "        print(b)"
   ]
  },
  {
   "cell_type": "code",
   "execution_count": 31,
   "id": "75888513",
   "metadata": {},
   "outputs": [
    {
     "name": "stdout",
     "output_type": "stream",
     "text": [
      "5\n"
     ]
    }
   ],
   "source": [
    "for c in range(0,10,1):\n",
    "    if c==5:\n",
    "        print(c)"
   ]
  },
  {
   "cell_type": "code",
   "execution_count": null,
   "id": "769994de",
   "metadata": {},
   "outputs": [],
   "source": [
    "########  Que 12  #####\n",
    "12. Write a short program that prints the numbers 1 to 10 using a for loop. Then write an equivalent\n",
    "program that prints the numbers 1 to 10 using a while loop."
   ]
  },
  {
   "cell_type": "code",
   "execution_count": 34,
   "id": "2df0e672",
   "metadata": {},
   "outputs": [
    {
     "name": "stdout",
     "output_type": "stream",
     "text": [
      "0\n",
      "1\n",
      "2\n",
      "3\n",
      "4\n",
      "5\n",
      "6\n",
      "7\n",
      "8\n",
      "9\n",
      "10\n"
     ]
    }
   ],
   "source": [
    "for a in range (1,11):\n",
    "    print(a)"
   ]
  },
  {
   "cell_type": "code",
   "execution_count": 36,
   "id": "67178453",
   "metadata": {},
   "outputs": [
    {
     "name": "stdout",
     "output_type": "stream",
     "text": [
      "0\n",
      "1\n",
      "2\n",
      "3\n",
      "4\n",
      "5\n",
      "6\n",
      "7\n",
      "8\n",
      "9\n",
      "10\n"
     ]
    }
   ],
   "source": [
    "a=1\n",
    "while(a<=10):\n",
    "    print(a)\n",
    "    a += 1\n"
   ]
  },
  {
   "cell_type": "code",
   "execution_count": null,
   "id": "f36d11e0",
   "metadata": {},
   "outputs": [],
   "source": [
    "####### Que 13 #######\n",
    "\n",
    "13. If you had a function named bacon() inside a module named spam, how would you call it after\n",
    "importing spam?"
   ]
  },
  {
   "cell_type": "code",
   "execution_count": null,
   "id": "397db649",
   "metadata": {},
   "outputs": [],
   "source": [
    "Answer:\n",
    "    If we have a function named bacon() inside a module named spam,then after importing spam we call it as\n",
    "\n",
    "   spam.bacon()"
   ]
  }
 ],
 "metadata": {
  "kernelspec": {
   "display_name": "Python 3 (ipykernel)",
   "language": "python",
   "name": "python3"
  },
  "language_info": {
   "codemirror_mode": {
    "name": "ipython",
    "version": 3
   },
   "file_extension": ".py",
   "mimetype": "text/x-python",
   "name": "python",
   "nbconvert_exporter": "python",
   "pygments_lexer": "ipython3",
   "version": "3.11.3"
  }
 },
 "nbformat": 4,
 "nbformat_minor": 5
}
